{
  "nbformat": 4,
  "nbformat_minor": 0,
  "metadata": {
    "colab": {
      "name": "firstmodeltraining.ipynb",
      "provenance": [],
      "collapsed_sections": [],
      "authorship_tag": "ABX9TyNCyltuSJ4XEqx3h4HN6zdX",
      "include_colab_link": true
    },
    "kernelspec": {
      "name": "python3",
      "display_name": "Python 3"
    },
    "accelerator": "GPU"
  },
  "cells": [
    {
      "cell_type": "markdown",
      "metadata": {
        "id": "view-in-github",
        "colab_type": "text"
      },
      "source": [
        "<a href=\"https://colab.research.google.com/github/M-PRERNA/MACHINE-LEARNING/blob/main/firstmodeltraining.ipynb\" target=\"_parent\"><img src=\"https://colab.research.google.com/assets/colab-badge.svg\" alt=\"Open In Colab\"/></a>"
      ]
    },
    {
      "cell_type": "code",
      "metadata": {
        "id": "qjlFN_OtIEGO"
      },
      "source": [
        "# converting celcius to fahrenheit f= C x 1.8 + 32"
      ],
      "execution_count": null,
      "outputs": []
    },
    {
      "cell_type": "markdown",
      "metadata": {
        "id": "Lx3On8x-LGPF"
      },
      "source": [
        "# Importing dependencies"
      ]
    },
    {
      "cell_type": "code",
      "metadata": {
        "id": "l2LIzbjbI6id"
      },
      "source": [
        "import tensorflow as tf\r\n",
        "import numpy as np\r\n",
        "import logging"
      ],
      "execution_count": null,
      "outputs": []
    },
    {
      "cell_type": "code",
      "metadata": {
        "id": "vxP8wIt7JcDq"
      },
      "source": [
        "# telling logger to log only errr files\r\n",
        "logger = tf.get_logger()\r\n",
        "logger.setLevel(logging.ERROR)"
      ],
      "execution_count": null,
      "outputs": []
    },
    {
      "cell_type": "markdown",
      "metadata": {
        "id": "jgwlfx8RLL8k"
      },
      "source": [
        "# setting up the training data\r\n",
        "supervised machine learning  is about figuring out an algorithm given the set of inputs and outputs.here in this problem we are creating a model that can give temperatuer in fahrenheit when it is given a temperature in celcius, thus we create two lists celcius and fahrenheit that we can use to train our model. "
      ]
    },
    {
      "cell_type": "code",
      "metadata": {
        "colab": {
          "base_uri": "https://localhost:8080/"
        },
        "id": "9THYbXlKKMni",
        "outputId": "a25716f4-71d0-43d8-d2f1-fda9fbef975b"
      },
      "source": [
        "celcius_q = np.array([-40,-10,0,8,15,22,10],dtype=float)\r\n",
        "fahrenheit_a = np.array([-40,14,32,46,59,72,100],dtype=float)\r\n",
        "\r\n",
        "for i,c in enumerate (celcius_q):\r\n",
        "  print('{} X 1.8 + 32 = {}'.format(c,fahrenheit_a[i]))"
      ],
      "execution_count": null,
      "outputs": [
        {
          "output_type": "stream",
          "text": [
            "-40.0 X 1.8 + 32 = -40.0\n",
            "-10.0 X 1.8 + 32 = 14.0\n",
            "0.0 X 1.8 + 32 = 32.0\n",
            "8.0 X 1.8 + 32 = 46.0\n",
            "15.0 X 1.8 + 32 = 59.0\n",
            "22.0 X 1.8 + 32 = 72.0\n",
            "10.0 X 1.8 + 32 = 100.0\n"
          ],
          "name": "stdout"
        }
      ]
    },
    {
      "cell_type": "markdown",
      "metadata": {
        "id": "VFrCezGgN1EJ"
      },
      "source": [
        "* Feature - The input(s) to our model , in this case a snge vaue- the degrees in celcius\r\n",
        "* labels - outputs our model predicts, in this case a single value - degree in fahrenheit\r\n",
        "* example - a pair of inputs an d outputs used during training , in this acse a pair of values from celcius and fahrenheit at a specific index such as (22,72).\r\n",
        "\r\n",
        "\r\n"
      ]
    },
    {
      "cell_type": "markdown",
      "metadata": {
        "id": "54L4L6rzPGP5"
      },
      "source": [
        "# create the model :\r\n",
        "using  asimplest model which is the **dense network**.\r\n",
        "since the problem is simplistic it requires only a *single layer,* with a *single neuron*.\r\n"
      ]
    },
    {
      "cell_type": "markdown",
      "metadata": {
        "id": "L9LuQ20QQgsv"
      },
      "source": [
        "## Create the model\r\n",
        "\r\n",
        "Next, create the model. We will use the simplest possible model we can, a Dense network. Since the problem is straightforward, this network will require only a single layer, with a single neuron.\r\n",
        "\r\n",
        "### Build a layer\r\n",
        "\r\n",
        "We'll call the layer `l0` and create it by instantiating `tf.keras.layers.Dense` with the following configuration:\r\n",
        "\r\n",
        "*   `input_shape=[1]` — This specifies that the input to this layer is a single value. That is, the shape is a one-dimensional array with one member. Since this is the first (and only) layer, that input shape is the input shape of the entire model. The single value is a floating point number, representing degrees Celsius.\r\n",
        "\r\n",
        "*   `units=1` — This specifies the number of neurons in the layer. The number of neurons defines how many internal variables the layer has to try to learn how to solve the problem (more later). Since this is the final layer, it is also the size of the model's output — a single float value representing degrees Fahrenheit. (In a multi-layered network, the size and shape of the layer would need to match the `input_shape` of the next layer.)"
      ]
    },
    {
      "cell_type": "code",
      "metadata": {
        "id": "0QWXDmaTNdGz"
      },
      "source": [
        "l0 = tf.keras.layers.Dense(units = 1, input_shape = [1])"
      ],
      "execution_count": null,
      "outputs": []
    },
    {
      "cell_type": "markdown",
      "metadata": {
        "id": "hWcjFKRXRfCM"
      },
      "source": [
        "### Assemble layers into the model\r\n",
        "\r\n",
        "Once layers are defined, they need to be assembled into a model. The Sequential model definition takes a list of layers as an argument, specifying the calculation order from the input to the output.\r\n",
        "\r\n",
        "This model has just a single layer, l0."
      ]
    },
    {
      "cell_type": "code",
      "metadata": {
        "id": "mgK2eOiORCV2"
      },
      "source": [
        "model = tf.keras.Sequential([l0])"
      ],
      "execution_count": null,
      "outputs": []
    },
    {
      "cell_type": "markdown",
      "metadata": {
        "id": "jUosLe2zRtwi"
      },
      "source": [
        "**Note**\r\n",
        "\r\n",
        "You will often see the layers defined inside the model definition, rather than beforehand:\r\n",
        "\r\n",
        "```python\r\n",
        "model = tf.keras.Sequential([\r\n",
        "  tf.keras.layers.Dense(units=1, input_shape=[1])\r\n",
        "])\r\n",
        "```"
      ]
    },
    {
      "cell_type": "markdown",
      "metadata": {
        "id": "5lTksuCcSb6b"
      },
      "source": [
        "## Compile the model, with loss and optimizer functions\r\n",
        "\r\n",
        "Before training, the model has to be compiled. When compiled for training, the model is given:\r\n",
        "\r\n",
        "- **Loss function** — A way of measuring how far off predictions are from the desired outcome. (The measured difference is called the \"loss\".)\r\n",
        "\r\n",
        "- **Optimizer function** — A way of adjusting internal values in order to reduce the loss.\r\n"
      ]
    },
    {
      "cell_type": "code",
      "metadata": {
        "id": "0kxdVlG8Rn7f"
      },
      "source": [
        "model.compile(loss='mean_squared_error',\r\n",
        "              optimizer = tf.keras.optimizers.Adam(0.1))"
      ],
      "execution_count": null,
      "outputs": []
    },
    {
      "cell_type": "markdown",
      "metadata": {
        "id": "c1dKmbDCT6EV"
      },
      "source": [
        "These are used during training (`model.fit()`, below) to first calculate the loss at each point, and then improve it. In fact, the act of calculating the current loss of a model and then improving it is precisely what training is.\r\n",
        "\r\n",
        "During training, the optimizer function is used to calculate adjustments to the model's internal variables. The goal is to adjust the internal variables until the model (which is really a math function) mirrors the actual equation for converting Celsius to Fahrenheit.\r\n",
        "\r\n",
        "TensorFlow uses numerical analysis to perform this tuning, and all this complexity is hidden from us(encapsulated). What is useful to know about these parameters are:\r\n",
        "\r\n",
        "The loss function ([mean squared error](https://en.wikipedia.org/wiki/Mean_squared_error)) and the optimizer ([Adam](https://machinelearningmastery.com/adam-optimization-algorithm-for-deep-learning/)) used here are standard for simple models like this one, but many others are available. It is not important to know how these specific functions work at this point.\r\n",
        "\r\n",
        "One part of the Optimizer you may need to think about when building your own models is the learning rate (`0.1` in the code above). This is the step size taken when adjusting values in the model. If the value is too small, it will take too many iterations to train the model. Too large, and accuracy goes down. Finding a good value often involves some trial and error, but the range is usually within 0.001 (default), and 0.1"
      ]
    },
    {
      "cell_type": "markdown",
      "metadata": {
        "id": "ZHpkllZAVEL4"
      },
      "source": [
        "## Train the model\r\n",
        "\r\n",
        "Train the model by calling the `fit` method.\r\n",
        "\r\n",
        "During training, the model takes in Celsius values, performs a calculation using the current internal variables (called \"weights\") and outputs values which are meant to be the Fahrenheit equivalent. Since the weights are initially set randomly, the output will not be close to the correct value. The difference between the actual output and the desired output is calculated using the loss function, and the optimizer function directs how the weights should be adjusted.\r\n",
        "\r\n",
        "This cycle of calculate, compare, adjust is controlled by the `fit` method. The first argument is the inputs, the second argument is the desired outputs. The `epochs` argument specifies how many times this cycle should be run, and the `verbose` argument controls how much output the method produces."
      ]
    },
    {
      "cell_type": "code",
      "metadata": {
        "id": "J2Phft74SugQ"
      },
      "source": [
        "history = model.fit(celcius_q,fahrenheit_a,epochs = 500, verbose=False)"
      ],
      "execution_count": null,
      "outputs": []
    },
    {
      "cell_type": "code",
      "metadata": {
        "id": "SeKdnqh2W1bA"
      },
      "source": [
        ""
      ],
      "execution_count": null,
      "outputs": []
    },
    {
      "cell_type": "code",
      "metadata": {
        "colab": {
          "base_uri": "https://localhost:8080/"
        },
        "id": "8bfd9NFsVShJ",
        "outputId": "21b59ff6-3168-4045-92ab-a54cf884b157"
      },
      "source": [
        "print('model training done!')"
      ],
      "execution_count": null,
      "outputs": [
        {
          "output_type": "stream",
          "text": [
            "model training done!\n"
          ],
          "name": "stdout"
        }
      ]
    },
    {
      "cell_type": "markdown",
      "metadata": {
        "id": "66r3La3MVii5"
      },
      "source": [
        "# displaying the training statistics using matplotlib:\r\n"
      ]
    },
    {
      "cell_type": "code",
      "metadata": {
        "id": "DENQKTUEVWue"
      },
      "source": [
        "import matplotlib.pyplot as plt "
      ],
      "execution_count": null,
      "outputs": []
    },
    {
      "cell_type": "code",
      "metadata": {
        "colab": {
          "base_uri": "https://localhost:8080/",
          "height": 297
        },
        "id": "Mz9gVqMFVsWj",
        "outputId": "5c8f32a2-6d37-476a-b43d-a038ac218fac"
      },
      "source": [
        "plt.xlabel('Epoch Number')\r\n",
        "plt.ylabel('loss magnitude')\r\n",
        "plt.plot(history.history['loss'])"
      ],
      "execution_count": null,
      "outputs": [
        {
          "output_type": "execute_result",
          "data": {
            "text/plain": [
              "[<matplotlib.lines.Line2D at 0x7f194277b208>]"
            ]
          },
          "metadata": {
            "tags": []
          },
          "execution_count": 57
        },
        {
          "output_type": "display_data",
          "data": {
            "image/png": "[encoded data removed]",
            "text/plain": [
              "<Figure size 432x288 with 1 Axes>"
            ]
          },
          "metadata": {
            "tags": [],
            "needs_background": "light"
          }
        }
      ]
    },
    {
      "cell_type": "markdown",
      "metadata": {
        "id": "1pdyb9WLWPSD"
      },
      "source": [
        "The `fit` method returns a history object. We can use this object to plot how the loss of our model goes down after each training epoch. A high loss means that the Fahrenheit degrees the model predicts is far from the corresponding value in `fahrenheit_a`.\r\n",
        "\r\n",
        "As you can see, our model improves very quickly at first, and then has a steady, slow improvement until it is very near \"perfect\" towards the end."
      ]
    },
    {
      "cell_type": "markdown",
      "metadata": {
        "id": "V01OwzkzWdcj"
      },
      "source": [
        "# using our trained model to predict values"
      ]
    },
    {
      "cell_type": "code",
      "metadata": {
        "colab": {
          "base_uri": "https://localhost:8080/"
        },
        "id": "i-vadQXEWA2E",
        "outputId": "df306b73-8d2d-40e5-c1b7-dd0c3330047a"
      },
      "source": [
        "print(model.predict([100.0]))"
      ],
      "execution_count": null,
      "outputs": [
        {
          "output_type": "stream",
          "text": [
            "[[232.47765]]\n"
          ],
          "name": "stdout"
        }
      ]
    },
    {
      "cell_type": "code",
      "metadata": {
        "colab": {
          "base_uri": "https://localhost:8080/"
        },
        "id": "ZjHt8fekWnO3",
        "outputId": "68c6c015-ad40-48af-d020-d0d8b45a41fc"
      },
      "source": [
        "100 * 1.8 +32"
      ],
      "execution_count": null,
      "outputs": [
        {
          "output_type": "execute_result",
          "data": {
            "text/plain": [
              "212.0"
            ]
          },
          "metadata": {
            "tags": []
          },
          "execution_count": 59
        }
      ]
    },
    {
      "cell_type": "code",
      "metadata": {
        "id": "oN9s5EnrWrNo"
      },
      "source": [
        "# so that's quite near about answer"
      ],
      "execution_count": null,
      "outputs": []
    },
    {
      "cell_type": "markdown",
      "metadata": {
        "id": "QcZvN3MqXQsR"
      },
      "source": [
        "review :\r\n",
        "* created a model with a Dense layer \r\n",
        "* trained it with 3500 samples (7 pairs over 500 epochs)\r\n",
        "\r\n",
        " **100 celcius was not  apart of our training data**"
      ]
    },
    {
      "cell_type": "code",
      "metadata": {
        "id": "liS82udyWwzQ"
      },
      "source": [
        "#  let's see how the internal variables of the dense look like"
      ],
      "execution_count": null,
      "outputs": []
    },
    {
      "cell_type": "code",
      "metadata": {
        "colab": {
          "base_uri": "https://localhost:8080/"
        },
        "id": "4NISmS6IYGFE",
        "outputId": "79ad463e-059a-45e2-def2-f6edaaa9d901"
      },
      "source": [
        "print('These are the layer variables : {}'.format(l0.get_weights()))"
      ],
      "execution_count": null,
      "outputs": [
        {
          "output_type": "stream",
          "text": [
            "These are the layer variables : [array([[1.9947064]], dtype=float32), array([33.007], dtype=float32)]\n"
          ],
          "name": "stdout"
        }
      ]
    },
    {
      "cell_type": "markdown",
      "metadata": {
        "id": "kNk6X2AEZDDa"
      },
      "source": [
        "The first variable is close to ~1.8 and the second to ~32. These values (1.8 and 32) are the actual variables in the real conversion formula.\r\n",
        "\r\n",
        "This is really close to the values in the conversion formula. We'll explain this in an upcoming video where we show how a Dense layer works, but for a single neuron with a single input and a single output, the internal math looks the same as [the equation for a line](https://en.wikipedia.org/wiki/Linear_equation#Slope%E2%80%93intercept_form), $y = mx + b$, which has the same form as the conversion equation, $f = 1.8c + 32$.\r\n",
        "\r\n",
        "Since the form is the same, the variables should converge on the standard values of 1.8 and 32, which is exactly what happened.\r\n",
        "\r\n",
        "With additional neurons, additional inputs, and additional outputs, the formula becomes much more complex, but the idea is the same."
      ]
    },
    {
      "cell_type": "code",
      "metadata": {
        "colab": {
          "base_uri": "https://localhost:8080/"
        },
        "id": "BSlFvU5SYSvd",
        "outputId": "7d18495c-1619-4977-c2cd-6847282c20ea"
      },
      "source": [
        "celsius_q = np.array([-40,-10,0,8,15,22,10],dtype=float)\r\n",
        "fahrenheit_a = np.array([-40,14,32,46,59,72,100],dtype=float)\r\n",
        "l0 = tf.keras.layers.Dense(units=4, input_shape=[1])\r\n",
        "l1 = tf.keras.layers.Dense(units=4)\r\n",
        "l2 = tf.keras.layers.Dense(units=1)\r\n",
        "model = tf.keras.Sequential([l0, l1, l2])\r\n",
        "model.compile(loss='mean_squared_error', optimizer=tf.keras.optimizers.Adam(0.1))\r\n",
        "model.fit(celsius_q, fahrenheit_a, epochs=500, verbose=False)\r\n",
        "print(\"Finished training the model\")\r\n",
        "print(model.predict([100.0]))\r\n",
        "print(\"Model predicts that 100 degrees Celsius is: {} degrees Fahrenheit\".format(model.predict([100.0])))\r\n",
        "print(\"These are the l0 variables: {}\".format(l0.get_weights()))\r\n",
        "print(\"These are the l1 variables: {}\".format(l1.get_weights()))\r\n",
        "print(\"These are the l2 variables: {}\".format(l2.get_weights()))"
      ],
      "execution_count": null,
      "outputs": [
        {
          "output_type": "stream",
          "text": [
            "Finished training the model\n",
            "[[237.29977]]\n",
            "Model predicts that 100 degrees Celsius is: [[237.29977]] degrees Fahrenheit\n",
            "These are the l0 variables: [array([[-0.19095723,  0.10571241,  0.27317703,  0.54305154]],\n",
            "      dtype=float32), array([ 1.9573176, -2.1930697,  2.6770759,  3.1404119], dtype=float32)]\n",
            "These are the l1 variables: [array([[ 1.2595801 , -0.09771316, -0.24647528, -0.3060404 ],\n",
            "       [-0.492723  ,  0.5413432 ,  0.66108346,  0.46954396],\n",
            "       [ 1.1833335 , -0.13073407, -0.81648725, -1.0068324 ],\n",
            "       [ 1.4680644 , -1.0912699 , -0.889336  , -0.35849053]],\n",
            "      dtype=float32), array([ 3.3041558, -2.3784685, -2.5543246, -3.1590185], dtype=float32)]\n",
            "These are the l2 variables: [array([[ 1.2471495 ],\n",
            "       [-0.32973474],\n",
            "       [-0.6823924 ],\n",
            "       [-1.0127633 ]], dtype=float32), array([3.1064737], dtype=float32)]\n"
          ],
          "name": "stdout"
        }
      ]
    },
    {
      "cell_type": "markdown",
      "metadata": {
        "id": "-FKXksjcZwe0"
      },
      "source": [
        "we can see that with additional layers l1 and l2 the internal variables are not closer to those in the formulas hence it adds on to the hiddenmathematical complexity upon a simple formula like conversion from celcius to fahrenheit"
      ]
    },
    {
      "cell_type": "code",
      "metadata": {
        "id": "8g2fSJZsZLLT"
      },
      "source": [
        ""
      ],
      "execution_count": null,
      "outputs": []
    }
  ]
}